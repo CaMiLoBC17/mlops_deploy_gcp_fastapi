{
 "cells": [
  {
   "cell_type": "code",
   "execution_count": 2,
   "metadata": {},
   "outputs": [],
   "source": [
    "from sklearn.linear_model import Lasso\n",
    "from sklearn.tree import DecisionTreeRegressor\n",
    "from sklearn.model_selection import GridSearchCV\n",
    "from sklearn.metrics import mean_squared_error\n",
    "from sklearn.model_selection import train_test_split\n",
    "from sklearn.datasets import make_regression\n",
    "import numpy as np\n",
    "import pandas as pd"
   ]
  },
  {
   "cell_type": "code",
   "execution_count": 7,
   "metadata": {},
   "outputs": [],
   "source": [
    "X_train = pd.read_csv(\"../data/processed/xtrain.csv\")\n",
    "y_train = pd.read_csv(\"../data/processed/ytrain.csv\")\n",
    "\n",
    "X_test = pd.read_csv(\"../data/processed/xtest.csv\")\n",
    "y_test = pd.read_csv(\"../data/processed/ytest.csv\")"
   ]
  },
  {
   "cell_type": "code",
   "execution_count": 8,
   "metadata": {},
   "outputs": [],
   "source": [
    "lasso = Lasso()\n",
    "decision_tree = DecisionTreeRegressor()"
   ]
  },
  {
   "cell_type": "code",
   "execution_count": 9,
   "metadata": {},
   "outputs": [],
   "source": [
    "lasso_params = {\n",
    "    'alpha': [0.01, 0.1, 1, 10, 100],  # Regularización de Lasso\n",
    "    'max_iter': [1000, 5000, 10000]    # Iteraciones máximas para convergencia\n",
    "}\n",
    "\n",
    "tree_params = {\n",
    "    'max_depth': [3, 5, 7, 10],        # Profundidad máxima del árbol\n",
    "    'min_samples_split': [2, 5, 10],   # Mínimo número de muestras para dividir\n",
    "    'min_samples_leaf': [1, 2, 5],     # Mínimo número de muestras en una hoja\n",
    "    'max_features': [None, 'sqrt', 'log2']  # Número de características a considerar en cada división\n",
    "}"
   ]
  },
  {
   "cell_type": "code",
   "execution_count": 10,
   "metadata": {},
   "outputs": [],
   "source": [
    "lasso_search = GridSearchCV(estimator=lasso, param_grid=lasso_params, cv=5, scoring='neg_mean_squared_error')\n",
    "tree_search = GridSearchCV(estimator=decision_tree, param_grid=tree_params, cv=5, scoring='neg_mean_squared_error')"
   ]
  },
  {
   "cell_type": "code",
   "execution_count": 11,
   "metadata": {},
   "outputs": [
    {
     "name": "stdout",
     "output_type": "stream",
     "text": [
      "Mejores parámetros para Lasso: {'alpha': 0.01, 'max_iter': 1000}\n",
      "Mejor MSE para Lasso: 0.1711861480156859\n",
      "Mejores parámetros para DecisionTreeRegressor: {'max_depth': 7, 'max_features': 'sqrt', 'min_samples_leaf': 2, 'min_samples_split': 5}\n",
      "Mejor MSE para DecisionTreeRegressor: 0.011731016329020221\n"
     ]
    }
   ],
   "source": [
    "lasso_search.fit(X_train, y_train)\n",
    "tree_search.fit(X_train, y_train)\n",
    "\n",
    "print(\"Mejores parámetros para Lasso:\", lasso_search.best_params_)\n",
    "print(\"Mejor MSE para Lasso:\", -lasso_search.best_score_)\n",
    "\n",
    "print(\"Mejores parámetros para DecisionTreeRegressor:\", tree_search.best_params_)\n",
    "print(\"Mejor MSE para DecisionTreeRegressor:\", -tree_search.best_score_)"
   ]
  },
  {
   "cell_type": "code",
   "execution_count": 12,
   "metadata": {},
   "outputs": [
    {
     "name": "stdout",
     "output_type": "stream",
     "text": [
      "MSE en conjunto de prueba para Lasso: 0.21456257612896354\n",
      "MSE en conjunto de prueba para DecisionTreeRegressor: 0.014132079712821027\n"
     ]
    }
   ],
   "source": [
    "lasso_best = lasso_search.best_estimator_\n",
    "tree_best = tree_search.best_estimator_\n",
    "\n",
    "lasso_pred = lasso_best.predict(X_test)\n",
    "tree_pred = tree_best.predict(X_test)\n",
    "\n",
    "lasso_mse = mean_squared_error(y_test, lasso_pred)\n",
    "tree_mse = mean_squared_error(y_test, tree_pred)\n",
    "\n",
    "print(\"MSE en conjunto de prueba para Lasso:\", lasso_mse)\n",
    "print(\"MSE en conjunto de prueba para DecisionTreeRegressor:\", tree_mse)"
   ]
  }
 ],
 "metadata": {
  "kernelspec": {
   "display_name": "first_mlops_deploy",
   "language": "python",
   "name": "python3"
  },
  "language_info": {
   "codemirror_mode": {
    "name": "ipython",
    "version": 3
   },
   "file_extension": ".py",
   "mimetype": "text/x-python",
   "name": "python",
   "nbconvert_exporter": "python",
   "pygments_lexer": "ipython3",
   "version": "3.9.20"
  }
 },
 "nbformat": 4,
 "nbformat_minor": 2
}
